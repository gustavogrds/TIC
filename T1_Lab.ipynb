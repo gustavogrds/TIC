{
  "nbformat": 4,
  "nbformat_minor": 0,
  "metadata": {
    "kernelspec": {
      "display_name": "Python 3",
      "language": "python",
      "name": "python3"
    },
    "language_info": {
      "codemirror_mode": {
        "name": "ipython",
        "version": 3
      },
      "file_extension": ".py",
      "mimetype": "text/x-python",
      "name": "python",
      "nbconvert_exporter": "python",
      "pygments_lexer": "ipython3",
      "version": "3.7.4"
    },
    "colab": {
      "name": "T1_Lab.ipynb",
      "provenance": [],
      "collapsed_sections": [],
      "include_colab_link": true
    }
  },
  "cells": [
    {
      "cell_type": "markdown",
      "metadata": {
        "id": "view-in-github",
        "colab_type": "text"
      },
      "source": [
        "<a href=\"https://colab.research.google.com/github/gustavogrds/TIC/blob/master/T1_Lab.ipynb\" target=\"_parent\"><img src=\"https://colab.research.google.com/assets/colab-badge.svg\" alt=\"Open In Colab\"/></a>"
      ]
    },
    {
      "cell_type": "markdown",
      "metadata": {
        "id": "IxXMSq0IpbMF",
        "colab_type": "text"
      },
      "source": [
        "<head>\n",
        "  <meta name=\"author\" content=\"Rogério de Oliveira\">\n",
        "  <meta institution=\"author\" content=\"Universidade Presbiteriana Mackenzie\">\n",
        "</head>\n",
        "\n",
        "<img src=\"http://meusite.mackenzie.br/rogerio/mackenzie_logo/UPM.2_horizontal_vermelho.jpg\" width=300, align=\"right\">\n",
        "<!-- <h1 align=left><font size = 6, style=\"color:rgb(200,0,0)\"> optional title </font></h1> -->"
      ]
    },
    {
      "cell_type": "markdown",
      "metadata": {
        "id": "9r0QOb6gpbMI",
        "colab_type": "text"
      },
      "source": [
        "## <h1 align=left><font size = 6, style=\"color:rgb(200,0,0)\">T1 Lab</font></h1>\n",
        "<hr>"
      ]
    },
    {
      "cell_type": "markdown",
      "metadata": {
        "_uuid": "3e410c3508beb0ff1c681badbacb4e0d32ceeb0a",
        "id": "6aVVqK9iZJnS",
        "colab_type": "text"
      },
      "source": [
        "# **Parte I** Trabalhando com Notebooks\n",
        "\n"
      ]
    },
    {
      "cell_type": "markdown",
      "metadata": {
        "_uuid": "3e410c3508beb0ff1c681badbacb4e0d32ceeb0a",
        "id": "EKZ87HaaZJnT",
        "colab_type": "text"
      },
      "source": [
        "## Atividade \n",
        "Empregue as duas células abaixo para você se familiarize em copiar, recortar, colar e mover células. Crie, altere e execute células do tipos `Markdown` (ou `Text`) e `Code`.  "
      ]
    },
    {
      "cell_type": "code",
      "metadata": {
        "id": "4eQW5FpKZJnT",
        "colab_type": "code",
        "colab": {
          "base_uri": "https://localhost:8080/",
          "height": 237
        },
        "outputId": "fe3cd837-ebf3-493f-b2d1-3703dde1f065"
      },
      "source": [
        "#\n",
        "# Esta é uma célula de código Python 3\n",
        "\n",
        "print('Ola! ')\n",
        "\n",
        "nome=input('Entre com o seu nome:')\n",
        "print('Bem vindo ', nome, '!' )\n",
        "\n",
        "#\n",
        "# Os índices em Python começam com 0\n",
        "\n",
        "inteiro=int(input('Entre com um inteiro entre 1 e 10:'))\n",
        "for i in range(inteiro):\n",
        "    print(i,nome)\n"
      ],
      "execution_count": null,
      "outputs": [
        {
          "output_type": "stream",
          "text": [
            "Ola! \n",
            "Entre com o seu nome:gus\n",
            "Bem vindo  gus !\n",
            "Entre com um inteiro entre 1 e 10:8\n",
            "0 gus\n",
            "1 gus\n",
            "2 gus\n",
            "3 gus\n",
            "4 gus\n",
            "5 gus\n",
            "6 gus\n",
            "7 gus\n"
          ],
          "name": "stdout"
        }
      ]
    },
    {
      "cell_type": "markdown",
      "metadata": {
        "_uuid": "5b902e77df56a03ee28a1e052efba3319ebc7391",
        "id": "sX1_n8RGZJnW",
        "colab_type": "text"
      },
      "source": [
        "# Esta é uma célula de texto\n",
        "## Esses são diferentes tipos de títulos\n",
        "### Que você pode criar\n",
        "#### Experimente\n",
        "\n",
        "Esses são diferentes tipos de **highlight**, *highlight*, `highlight`. \n",
        "\n",
        "Você pode incluir expressões matemáticas elaboradas em `Latex`: $e^{i\\pi} + 1 = 0$ \n",
        "\n",
        "E códigos fontes como texto (use *Tab*):\n",
        "\n",
        "    # Python code\n",
        "    print('Ola! ')\n",
        "    nome=input('Entre com o seu nome:')\n",
        "    print('Bem vindo ', nome, '!' )\n",
        "    \n",
        "**Para incluir Listas empregue \\* , \\\\ ou se preferir listas numeradas.**\n",
        "\n",
        "* One\n",
        "    - Sublist\n",
        "        - This\n",
        "* Two\n",
        "  - Sublist\n",
        "* Three\n",
        "  - Sublist\n",
        "\n",
        "1. Here we go\n",
        "    1. Sublist\n",
        "    2. Sublist\n",
        "2. There we go\n",
        "3. Now this\n",
        "\n",
        "> Empregue \\> para identar o texto\n",
        ">> Ou \\>>\n",
        "\n",
        "\n",
        "\n",
        "Os `Markdown` permitem ainda incluir textos em formato `HTML` incluindo imagens, tabelas etc. \n",
        "\n",
        "<h10 align=left><font size = 6, style=\"color:rgb(200,0,0)\">Para construir textos mais elaborados em HTML</font>\n",
        "\n",
        "<h10 align=left><font size = 5, style=\"color:rgb(200,0,0)\">Para construir textos mais elaborados em HTML</font>\n",
        "    \n",
        "<h10 align=left><font size = 4, style=\"color:rgb(200,0,0)\">Para construir textos mais elaborados em HTML</font>\n",
        "\n"
      ]
    },
    {
      "cell_type": "markdown",
      "metadata": {
        "id": "_FrFR177ZJnW",
        "colab_type": "text"
      },
      "source": [
        "Isso já suficiente para você começar. Você ainda pode querer consultar a documentação do Jupyter ou do Colab para a criação de notebooks mais elaborados."
      ]
    },
    {
      "cell_type": "markdown",
      "metadata": {
        "id": "KPhCmf3keFgf",
        "colab_type": "text"
      },
      "source": [
        "# **Parte II** Empregando exemplos para programar\n",
        "\n",
        "Uma forma fácil de criar programas é a partir de exemplos. Isso será muito útil para nós no curso quando, para muitas funções, não precisamos entrar em todos os detalhes do código. \n",
        "\n",
        "Isso funciona de forma semelhante a muitas tarefas do seu dia a dia. As substituições permitem você chegar aos resultado *abstraindo*  uma série de detalhes."
      ]
    },
    {
      "cell_type": "markdown",
      "metadata": {
        "id": "M1ekOPCqmcxk",
        "colab_type": "text"
      },
      "source": [
        "## Em expressões matemáticas"
      ]
    },
    {
      "cell_type": "markdown",
      "metadata": {
        "id": "Nh0YPTvSmZ74",
        "colab_type": "text"
      },
      "source": [
        "$$ f(x) = x^2 + 1 $$\n",
        "$$ x = a \\rightarrow f(a) = a^2 + 1 $$\n",
        "$$ x = (a - b) \\rightarrow f(a-b) = (a - b)^2 + 1 $$\n",
        "ou\n",
        "$$ f(x,y) = x^2 + y^2 + xy $$ \n",
        "$$ x = 1, y = a \\rightarrow f(1,a) = 1 + a^2 + a $$\n",
        "ou\n",
        "$$ f(x) = e^{2x^i - \\pi}$$ \n",
        "$$ x = \\beta \\rightarrow f(\\beta) = e^{2\\beta^i - \\pi} $$\n"
      ]
    },
    {
      "cell_type": "markdown",
      "metadata": {
        "id": "PZ0vVrtvmm1_",
        "colab_type": "text"
      },
      "source": [
        "## Em textos"
      ]
    },
    {
      "cell_type": "markdown",
      "metadata": {
        "id": "sih_tLI6hcHQ",
        "colab_type": "text"
      },
      "source": [
        "\n",
        "**Segue requerimento do aluno(a)** `nome do aluno`, **CPF** `cpf`, **para transferência da universidade** `nome da universidade de origem` **para a Universidade Presbiteriana Mackenzie...** ... `DD-MM-YYYY`.\n",
        "\n",
        "\n",
        "Requerimento = 'Ana Luiza' $\\rightarrow$\n",
        "\n",
        "**Segue requerimento do aluno(a)** Ana Luiza, **CPF** 182.128.993-24, **para transferência da universidade** UPM Campus Campinas **para a Universidade Presbiteriana Mackenzie...** ... 20-08-2020.\n",
        "\n"
      ]
    },
    {
      "cell_type": "markdown",
      "metadata": {
        "id": "PmhxISGcnBtV",
        "colab_type": "text"
      },
      "source": [
        "## Em códigos\n",
        "\n",
        "\n",
        "Mostra imagem com tamanho (`width`) 300\n",
        "```\n",
        "<img src=\"http://meusite.mackenzie.br/rogerio/mackenzie_logo/UPM.2_horizontal_vermelho.jpg\" width=300, align=\"center\">\n",
        "\n",
        "```\n",
        "`width`= $\\rightarrow$ 100\n",
        "```\n",
        "<img src=\"http://meusite.mackenzie.br/rogerio/mackenzie_logo/UPM.2_horizontal_vermelho.jpg\" width=100, align=\"center\">\n",
        "```\n",
        "\n",
        "\n",
        "<img src=\"http://meusite.mackenzie.br/rogerio/mackenzie_logo/UPM.2_horizontal_vermelho.jpg\" width=300, align=\"center\">\n",
        "\n",
        "</br>\n",
        "\n",
        "<img src=\"http://meusite.mackenzie.br/rogerio/mackenzie_logo/UPM.2_horizontal_vermelho.jpg\" width=100, align=\"center\">\n",
        "\n",
        "\n",
        "\n"
      ]
    },
    {
      "cell_type": "markdown",
      "metadata": {
        "id": "7p10zuMuz4cR",
        "colab_type": "text"
      },
      "source": [
        "<img src=\"http://meusite.mackenzie.br/rogerio/codesub1.png\" width=1000, align=\"center\">"
      ]
    },
    {
      "cell_type": "markdown",
      "metadata": {
        "id": "kRtYc5S4ovip",
        "colab_type": "text"
      },
      "source": [
        "## Em um programa"
      ]
    },
    {
      "cell_type": "code",
      "metadata": {
        "id": "jiglSClgbuu4",
        "colab_type": "code",
        "colab": {
          "base_uri": "https://localhost:8080/",
          "height": 34
        },
        "outputId": "297224cc-2be3-4b27-a4e8-ca1d32ac8bb9"
      },
      "source": [
        "# gera uma lista de 5 valores aleatórios entre 10 e 30\n",
        "import random\n",
        "random.seed(1984)\n",
        "lista = random.sample(range(10, 30), 5)\n",
        "print(lista)"
      ],
      "execution_count": null,
      "outputs": [
        {
          "output_type": "stream",
          "text": [
            "[21, 25, 20, 19, 16]\n"
          ],
          "name": "stdout"
        }
      ]
    },
    {
      "cell_type": "markdown",
      "metadata": {
        "id": "2AvyrnAEpK1i",
        "colab_type": "text"
      },
      "source": [
        "Gere uma lista de 3 valores aleatórios entre 5 e 100"
      ]
    },
    {
      "cell_type": "code",
      "metadata": {
        "id": "FdFKyceMpJcO",
        "colab_type": "code",
        "colab": {
          "base_uri": "https://localhost:8080/",
          "height": 34
        },
        "outputId": "6b79e2de-cdaf-4657-9057-850eb17772bf"
      },
      "source": [
        "# gera uma lista de 3 valores aleatórios entre 5 e 100\n",
        "import random\n",
        "random.seed(1984)\n",
        "lista = random.sample(range(5, 100), 3)\n",
        "print(lista)"
      ],
      "execution_count": null,
      "outputs": [
        {
          "output_type": "stream",
          "text": [
            "[51, 68, 48]\n"
          ],
          "name": "stdout"
        }
      ]
    },
    {
      "cell_type": "markdown",
      "metadata": {
        "id": "VggzAgMA0I-_",
        "colab_type": "text"
      },
      "source": [
        "<img src=\"http://meusite.mackenzie.br/rogerio/codesub2.png\" width=1000, align=\"center\">"
      ]
    },
    {
      "cell_type": "code",
      "metadata": {
        "id": "8Jlvl4sJap_X",
        "colab_type": "code",
        "colab": {
          "base_uri": "https://localhost:8080/",
          "height": 72
        },
        "outputId": "de0bb420-684f-40d6-8942-b1f0e8815c8f"
      },
      "source": [
        "# imprime os elementos de uma lista\n",
        "lista = [1,2,3]\n",
        "\n",
        "for elemento in lista:\n",
        "  print(elemento)"
      ],
      "execution_count": null,
      "outputs": [
        {
          "output_type": "stream",
          "text": [
            "1\n",
            "2\n",
            "3\n"
          ],
          "name": "stdout"
        }
      ]
    },
    {
      "cell_type": "code",
      "metadata": {
        "id": "FZnLMiyvcMqb",
        "colab_type": "code",
        "colab": {
          "base_uri": "https://localhost:8080/",
          "height": 34
        },
        "outputId": "7ad4b7b1-2c9d-4ae0-d1d7-89c2c18fcab3"
      },
      "source": [
        "# imprime os elementos pares de uma lista\n",
        "import numpy as np\n",
        "lista = [1,2,3]\n",
        "\n",
        "for elemento in lista:\n",
        "  if np.mod(elemento,2) == 0:\n",
        "    print(elemento)\n",
        "\n"
      ],
      "execution_count": null,
      "outputs": [
        {
          "output_type": "stream",
          "text": [
            "2\n"
          ],
          "name": "stdout"
        }
      ]
    },
    {
      "cell_type": "markdown",
      "metadata": {
        "id": "tSnF0p3FvPX6",
        "colab_type": "text"
      },
      "source": [
        "## Experimente você \n",
        "\n",
        "Faça um programa da iterar sobre uma lista e fazer a soma do dos valores em uma variável inicial.\n",
        "\n",
        "```\n",
        "soma = 0\n",
        "\n",
        "```"
      ]
    },
    {
      "cell_type": "code",
      "metadata": {
        "id": "2UCDCzfDbKXg",
        "colab_type": "code",
        "colab": {}
      },
      "source": [
        "# Seu código aqui\n"
      ],
      "execution_count": null,
      "outputs": []
    },
    {
      "cell_type": "markdown",
      "metadata": {
        "id": "VqEBdvI4vhDk",
        "colab_type": "text"
      },
      "source": [
        "Double-click **aqui** para ver a resposta.\n",
        "<!-- Resposta:\n",
        "\n",
        "lista = [1,2,3]\n",
        "\n",
        "soma = 0\n",
        "for elemento in lista:\n",
        "  soma = soma + elemento\n",
        " \n",
        "print(soma) \n",
        "\n",
        "-->"
      ]
    },
    {
      "cell_type": "markdown",
      "metadata": {
        "id": "vnseff4uv27A",
        "colab_type": "text"
      },
      "source": [
        "# **Exercício**\n",
        "\n",
        "Empregue os exemplos de código anteriores para:\n",
        "\n",
        "1. Gerar uma lista de 200 valores aleatórios entre 1 e 1000 (mantenha o `seed(1984)`).\n",
        "2. Some valores pares e exiba os resultados.\n",
        "\n",
        "Em seguida responda ao questionário no **Moodle**."
      ]
    },
    {
      "cell_type": "code",
      "metadata": {
        "id": "27T2ZUYmbN7z",
        "colab_type": "code",
        "colab": {}
      },
      "source": [
        "# gera uma lista de 200 valores aleatórios entre 1 e 1000\n",
        "\n",
        "\n",
        "# soma os valores pares da lista\n",
        "\n",
        "\n",
        "\n"
      ],
      "execution_count": null,
      "outputs": []
    }
  ]
}